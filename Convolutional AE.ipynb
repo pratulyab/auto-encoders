{
 "cells": [
  {
   "cell_type": "code",
   "execution_count": 12,
   "metadata": {
    "collapsed": true
   },
   "outputs": [],
   "source": [
    "import numpy as np\n",
    "import matplotlib.pyplot as plt\n",
    "\n",
    "import keras\n",
    "from keras.models import Model\n",
    "from keras.layers import Conv2D, MaxPool2D, ZeroPadding2D, UpSampling2D\n",
    "from keras.layers import Input, Dense, Activation, Flatten, Reshape\n",
    "from keras.utils import np_utils\n",
    "\n",
    "from pandas import read_csv\n",
    "from sklearn.model_selection import train_test_split"
   ]
  },
  {
   "cell_type": "code",
   "execution_count": 65,
   "metadata": {
    "collapsed": false
   },
   "outputs": [
    {
     "name": "stdout",
     "output_type": "stream",
     "text": [
      "(33600, 784) (8400, 784) (33600,) (8400,)\n"
     ]
    }
   ],
   "source": [
    "dataset = read_csv(\"../datasets/mnist_data/train.csv\").values\n",
    "X_train, X_test, y_train, y_test = train_test_split(dataset[:,1:], dataset[:,0], \n",
    "                                                   test_size=0.2)\n",
    "print(X_train.shape, X_test.shape, y_train.shape, y_test.shape)"
   ]
  },
  {
   "cell_type": "code",
   "execution_count": 66,
   "metadata": {
    "collapsed": true
   },
   "outputs": [],
   "source": [
    "X_train, X_test = X_train/255, X_test/255\n",
    "X_train, X_test = X_train.reshape((-1,28,28,1)), X_test.reshape((-1,28,28,1))"
   ]
  },
  {
   "cell_type": "code",
   "execution_count": 67,
   "metadata": {
    "collapsed": false
   },
   "outputs": [
    {
     "name": "stdout",
     "output_type": "stream",
     "text": [
      "_________________________________________________________________\n",
      "Layer (type)                 Output Shape              Param #   \n",
      "=================================================================\n",
      "input_22 (InputLayer)        (None, 28, 28, 1)         0         \n",
      "_________________________________________________________________\n",
      "conv2d_70 (Conv2D)           (None, 26, 26, 32)        320       \n",
      "_________________________________________________________________\n",
      "conv2d_71 (Conv2D)           (None, 24, 24, 16)        4624      \n",
      "_________________________________________________________________\n",
      "max_pooling2d_15 (MaxPooling (None, 12, 12, 16)        0         \n",
      "_________________________________________________________________\n",
      "conv2d_72 (Conv2D)           (None, 10, 10, 8)         1160      \n",
      "_________________________________________________________________\n",
      "flatten_10 (Flatten)         (None, 800)               0         \n",
      "_________________________________________________________________\n",
      "dense_15 (Dense)             (None, 256)               205056    \n",
      "_________________________________________________________________\n",
      "dense_16 (Dense)             (None, 800)               205600    \n",
      "_________________________________________________________________\n",
      "reshape_9 (Reshape)          (None, 10, 10, 8)         0         \n",
      "_________________________________________________________________\n",
      "zero_padding2d_29 (ZeroPaddi (None, 12, 12, 8)         0         \n",
      "_________________________________________________________________\n",
      "conv2d_73 (Conv2D)           (None, 12, 12, 16)        1168      \n",
      "_________________________________________________________________\n",
      "up_sampling2d_10 (UpSampling (None, 24, 24, 16)        0         \n",
      "_________________________________________________________________\n",
      "zero_padding2d_30 (ZeroPaddi (None, 26, 26, 16)        0         \n",
      "_________________________________________________________________\n",
      "conv2d_74 (Conv2D)           (None, 26, 26, 32)        4640      \n",
      "_________________________________________________________________\n",
      "zero_padding2d_31 (ZeroPaddi (None, 28, 28, 32)        0         \n",
      "_________________________________________________________________\n",
      "conv2d_75 (Conv2D)           (None, 28, 28, 1)         289       \n",
      "=================================================================\n",
      "Total params: 422,857\n",
      "Trainable params: 422,857\n",
      "Non-trainable params: 0\n",
      "_________________________________________________________________\n"
     ]
    }
   ],
   "source": [
    "embedding_n = 256\n",
    "\n",
    "inp = Input(shape=(28,28,1))\n",
    "conv1 = Conv2D(32, (3,3), padding='valid', activation='relu')(inp)\n",
    "conv2 = Conv2D(16, (3,3), padding='valid', activation='relu')(conv1)\n",
    "pool1 = MaxPool2D((2,2))(conv2)\n",
    "conv3 = Conv2D(8, (3,3), padding='valid', activation='relu')(pool1)\n",
    "\n",
    "fl1 = Flatten()(conv3)\n",
    "em1 = Dense(embedding_n, activation='sigmoid')(fl1)\n",
    "fc1 = Dense(800, activation='relu')(em1)\n",
    "rs1 = Reshape((10,10,8))(fc1)\n",
    "\n",
    "zp1 = ZeroPadding2D((1,1))(rs1)\n",
    "dc1 = Conv2D(16, (3,3), padding='same', activation='relu')(zp1)\n",
    "up1 = UpSampling2D((2,2))(dc1)\n",
    "zp2 = ZeroPadding2D((1,1))(up1)\n",
    "dc2 = Conv2D(32, (3,3), padding='same', activation='relu')(zp2)\n",
    "zp3 = ZeroPadding2D((1,1))(dc2)\n",
    "dc3 = Conv2D(1, (3,3), padding='same', activation='relu')(zp3)\n",
    "\n",
    "cae = Model(inputs=inp, outputs=dc3)\n",
    "cae.summary()"
   ]
  },
  {
   "cell_type": "code",
   "execution_count": 68,
   "metadata": {
    "collapsed": true
   },
   "outputs": [],
   "source": [
    "cae.compile(loss='mse', optimizer='adam', metrics=['accuracy'])"
   ]
  },
  {
   "cell_type": "code",
   "execution_count": 69,
   "metadata": {
    "collapsed": false
   },
   "outputs": [
    {
     "name": "stdout",
     "output_type": "stream",
     "text": [
      "_________________________________________________________________\n",
      "Layer (type)                 Output Shape              Param #   \n",
      "=================================================================\n",
      "input_22 (InputLayer)        (None, 28, 28, 1)         0         \n",
      "_________________________________________________________________\n",
      "conv2d_70 (Conv2D)           (None, 26, 26, 32)        320       \n",
      "_________________________________________________________________\n",
      "conv2d_71 (Conv2D)           (None, 24, 24, 16)        4624      \n",
      "_________________________________________________________________\n",
      "max_pooling2d_15 (MaxPooling (None, 12, 12, 16)        0         \n",
      "_________________________________________________________________\n",
      "conv2d_72 (Conv2D)           (None, 10, 10, 8)         1160      \n",
      "_________________________________________________________________\n",
      "flatten_10 (Flatten)         (None, 800)               0         \n",
      "_________________________________________________________________\n",
      "dense_15 (Dense)             (None, 256)               205056    \n",
      "=================================================================\n",
      "Total params: 211,160\n",
      "Trainable params: 211,160\n",
      "Non-trainable params: 0\n",
      "_________________________________________________________________\n"
     ]
    }
   ],
   "source": [
    "encoder = Model(inputs=inp, outputs=em1)\n",
    "encoder.summary()"
   ]
  },
  {
   "cell_type": "code",
   "execution_count": 70,
   "metadata": {
    "collapsed": false
   },
   "outputs": [
    {
     "data": {
      "text/plain": [
       "[<keras.engine.input_layer.InputLayer at 0x132105898>,\n",
       " <keras.layers.convolutional.Conv2D at 0x1321058d0>,\n",
       " <keras.layers.convolutional.Conv2D at 0x132105940>,\n",
       " <keras.layers.pooling.MaxPooling2D at 0x13697fba8>,\n",
       " <keras.layers.convolutional.Conv2D at 0x1368c06a0>,\n",
       " <keras.layers.core.Flatten at 0x133619e10>,\n",
       " <keras.layers.core.Dense at 0x1336195f8>,\n",
       " <keras.layers.core.Dense at 0x133596f60>,\n",
       " <keras.layers.core.Reshape at 0x134c6cf60>,\n",
       " <keras.layers.convolutional.ZeroPadding2D at 0x134c6c320>,\n",
       " <keras.layers.convolutional.Conv2D at 0x1335b0c88>,\n",
       " <keras.layers.convolutional.UpSampling2D at 0x1335a5e10>,\n",
       " <keras.layers.convolutional.ZeroPadding2D at 0x133e26278>,\n",
       " <keras.layers.convolutional.Conv2D at 0x13d66be10>,\n",
       " <keras.layers.convolutional.ZeroPadding2D at 0x133e4f780>,\n",
       " <keras.layers.convolutional.Conv2D at 0x134c654e0>]"
      ]
     },
     "execution_count": 70,
     "metadata": {},
     "output_type": "execute_result"
    }
   ],
   "source": [
    "cae.layers"
   ]
  },
  {
   "cell_type": "code",
   "execution_count": 71,
   "metadata": {
    "collapsed": false
   },
   "outputs": [
    {
     "name": "stdout",
     "output_type": "stream",
     "text": [
      "_________________________________________________________________\n",
      "Layer (type)                 Output Shape              Param #   \n",
      "=================================================================\n",
      "input_23 (InputLayer)        (None, 256)               0         \n",
      "_________________________________________________________________\n",
      "dense_16 (Dense)             (None, 800)               205600    \n",
      "_________________________________________________________________\n",
      "reshape_9 (Reshape)          (None, 10, 10, 8)         0         \n",
      "_________________________________________________________________\n",
      "zero_padding2d_29 (ZeroPaddi (None, 12, 12, 8)         0         \n",
      "_________________________________________________________________\n",
      "conv2d_73 (Conv2D)           (None, 12, 12, 16)        1168      \n",
      "_________________________________________________________________\n",
      "up_sampling2d_10 (UpSampling (None, 24, 24, 16)        0         \n",
      "_________________________________________________________________\n",
      "zero_padding2d_30 (ZeroPaddi (None, 26, 26, 16)        0         \n",
      "_________________________________________________________________\n",
      "conv2d_74 (Conv2D)           (None, 26, 26, 32)        4640      \n",
      "_________________________________________________________________\n",
      "zero_padding2d_31 (ZeroPaddi (None, 28, 28, 32)        0         \n",
      "_________________________________________________________________\n",
      "conv2d_75 (Conv2D)           (None, 28, 28, 1)         289       \n",
      "=================================================================\n",
      "Total params: 211,697\n",
      "Trainable params: 211,697\n",
      "Non-trainable params: 0\n",
      "_________________________________________________________________\n"
     ]
    }
   ],
   "source": [
    "decoder_input = Input(shape=(embedding_n,))\n",
    "dec_layer = cae.layers[7](decoder_input)\n",
    "for i in range(8, len(cae.layers)):\n",
    "    dec_layer = cae.layers[i](dec_layer)\n",
    "decoder = Model(inputs=decoder_input, outputs=dec_layer)\n",
    "decoder.summary()"
   ]
  },
  {
   "cell_type": "code",
   "execution_count": 72,
   "metadata": {
    "collapsed": false
   },
   "outputs": [
    {
     "name": "stdout",
     "output_type": "stream",
     "text": [
      "Train on 33600 samples, validate on 8400 samples\n",
      "Epoch 1/10\n",
      "33600/33600 [==============================] - 127s 4ms/step - loss: 0.0661 - acc: 0.8006 - val_loss: 0.0523 - val_acc: 0.8009\n",
      "Epoch 2/10\n",
      "33600/33600 [==============================] - 128s 4ms/step - loss: 0.0350 - acc: 0.8043 - val_loss: 0.0243 - val_acc: 0.8102\n",
      "Epoch 3/10\n",
      "33600/33600 [==============================] - 125s 4ms/step - loss: 0.0198 - acc: 0.8111 - val_loss: 0.0161 - val_acc: 0.8122\n",
      "Epoch 4/10\n",
      "33600/33600 [==============================] - 125s 4ms/step - loss: 0.0145 - acc: 0.8129 - val_loss: 0.0127 - val_acc: 0.8133\n",
      "Epoch 5/10\n",
      "33600/33600 [==============================] - 122s 4ms/step - loss: 0.0120 - acc: 0.8137 - val_loss: 0.0109 - val_acc: 0.8135\n",
      "Epoch 6/10\n",
      "33600/33600 [==============================] - 121s 4ms/step - loss: 0.0102 - acc: 0.8141 - val_loss: 0.0097 - val_acc: 0.8141\n",
      "Epoch 7/10\n",
      "33600/33600 [==============================] - 121s 4ms/step - loss: 0.0091 - acc: 0.8143 - val_loss: 0.0086 - val_acc: 0.8140\n",
      "Epoch 8/10\n",
      "33600/33600 [==============================] - 120s 4ms/step - loss: 0.0082 - acc: 0.8145 - val_loss: 0.0078 - val_acc: 0.8143\n",
      "Epoch 9/10\n",
      "33600/33600 [==============================] - 120s 4ms/step - loss: 0.0077 - acc: 0.8146 - val_loss: 0.0072 - val_acc: 0.8143\n",
      "Epoch 10/10\n",
      "33600/33600 [==============================] - 122s 4ms/step - loss: 0.0070 - acc: 0.8147 - val_loss: 0.0068 - val_acc: 0.8144\n"
     ]
    }
   ],
   "source": [
    "# Train CAE on Full DS on CPU!\n",
    "hist = cae.fit(X_train, X_train, \n",
    "                shuffle=True,\n",
    "                epochs=10,\n",
    "                batch_size=1024,\n",
    "                validation_data=(X_test, X_test))"
   ]
  },
  {
   "cell_type": "code",
   "execution_count": 73,
   "metadata": {
    "collapsed": false
   },
   "outputs": [
    {
     "data": {
      "image/png": "[encoded data removed]",
      "text/plain": [
       "<Figure size 432x288 with 1 Axes>"
      ]
     },
     "metadata": {
      "needs_background": "light"
     },
     "output_type": "display_data"
    },
    {
     "data": {
      "image/png": "[encoded data removed]",
      "text/plain": [
       "<Figure size 432x288 with 1 Axes>"
      ]
     },
     "metadata": {
      "needs_background": "light"
     },
     "output_type": "display_data"
    }
   ],
   "source": [
    "plt.figure(0)\n",
    "plt.title(\"Loss\")\n",
    "plt.plot(hist.history['loss'], 'r', label='Training')\n",
    "plt.plot(hist.history['val_loss'], 'b', label='Validation')\n",
    "plt.legend()\n",
    "plt.show()\n",
    "\n",
    "plt.figure(1)\n",
    "plt.title(\"Accuracy\")\n",
    "plt.plot(hist.history['acc'], 'r', label='Training')\n",
    "plt.plot(hist.history['val_acc'], 'b', label='Validation')\n",
    "plt.legend()\n",
    "plt.show()"
   ]
  },
  {
   "cell_type": "code",
   "execution_count": 74,
   "metadata": {
    "collapsed": false
   },
   "outputs": [
    {
     "name": "stdout",
     "output_type": "stream",
     "text": [
      "(20, 28, 28, 1)\n"
     ]
    },
    {
     "data": {
      "text/plain": [
       "(20, 28, 28, 1)"
      ]
     },
     "execution_count": 74,
     "metadata": {},
     "output_type": "execute_result"
    }
   ],
   "source": [
    "test = X_train[:20]\n",
    "print(test.shape)\n",
    "# encodings = encoder.predict(test)\n",
    "# print(encodings.shape)\n",
    "# decodings = decoder.predict(encodings)\n",
    "# print(decodings.shape)\n",
    "decodings = cae.predict(test)\n",
    "decodings.shape"
   ]
  },
  {
   "cell_type": "code",
   "execution_count": 76,
   "metadata": {
    "collapsed": false
   },
   "outputs": [
    {
     "data": {
      "image/png": "[encoded data removed]",
      "text/plain": [
       "<Figure size 432x288 with 2 Axes>"
      ]
     },
     "metadata": {
      "needs_background": "light"
     },
     "output_type": "display_data"
    },
    {
     "data": {
      "image/png": "[encoded data removed]",
      "text/plain": [
       "<Figure size 432x288 with 2 Axes>"
      ]
     },
     "metadata": {
      "needs_background": "light"
     },
     "output_type": "display_data"
    },
    {
     "data": {
      "image/png": "[encoded data removed]",
      "text/plain": [
       "<Figure size 432x288 with 2 Axes>"
      ]
     },
     "metadata": {
      "needs_background": "light"
     },
     "output_type": "display_data"
    },
    {
     "data": {
      "image/png": "[encoded data removed]",
      "text/plain": [
       "<Figure size 432x288 with 2 Axes>"
      ]
     },
     "metadata": {
      "needs_background": "light"
     },
     "output_type": "display_data"
    },
    {
     "data": {
      "image/png": "[encoded data removed]",
      "text/plain": [
       "<Figure size 432x288 with 2 Axes>"
      ]
     },
     "metadata": {
      "needs_background": "light"
     },
     "output_type": "display_data"
    },
    {
     "data": {
      "image/png": "[encoded data removed]",
      "text/plain": [
       "<Figure size 432x288 with 2 Axes>"
      ]
     },
     "metadata": {
      "needs_background": "light"
     },
     "output_type": "display_data"
    },
    {
     "data": {
      "image/png": "[encoded data removed]",
      "text/plain": [
       "<Figure size 432x288 with 2 Axes>"
      ]
     },
     "metadata": {
      "needs_background": "light"
     },
     "output_type": "display_data"
    },
    {
     "data": {
      "image/png": "[encoded data removed]",
      "text/plain": [
       "<Figure size 432x288 with 2 Axes>"
      ]
     },
     "metadata": {
      "needs_background": "light"
     },
     "output_type": "display_data"
    },
    {
     "data": {
      "image/png": "[encoded data removed]",
      "text/plain": [
       "<Figure size 432x288 with 2 Axes>"
      ]
     },
     "metadata": {
      "needs_background": "light"
     },
     "output_type": "display_data"
    },
    {
     "data": {
      "image/png": "[encoded data removed]",
      "text/plain": [
       "<Figure size 432x288 with 2 Axes>"
      ]
     },
     "metadata": {
      "needs_background": "light"
     },
     "output_type": "display_data"
    },
    {
     "data": {
      "image/png": "[encoded data removed]",
      "text/plain": [
       "<Figure size 432x288 with 2 Axes>"
      ]
     },
     "metadata": {
      "needs_background": "light"
     },
     "output_type": "display_data"
    },
    {
     "data": {
      "image/png": "[encoded data removed]",
      "text/plain": [
       "<Figure size 432x288 with 2 Axes>"
      ]
     },
     "metadata": {
      "needs_background": "light"
     },
     "output_type": "display_data"
    },
    {
     "data": {
      "image/png": "[encoded data removed]",
      "text/plain": [
       "<Figure size 432x288 with 2 Axes>"
      ]
     },
     "metadata": {
      "needs_background": "light"
     },
     "output_type": "display_data"
    },
    {
     "data": {
      "image/png": "[encoded data removed]",
      "text/plain": [
       "<Figure size 432x288 with 2 Axes>"
      ]
     },
     "metadata": {
      "needs_background": "light"
     },
     "output_type": "display_data"
    },
    {
     "data": {
      "image/png": "[encoded data removed]",
      "text/plain": [
       "<Figure size 432x288 with 2 Axes>"
      ]
     },
     "metadata": {
      "needs_background": "light"
     },
     "output_type": "display_data"
    },
    {
     "data": {
      "image/png": "[encoded data removed]",
      "text/plain": [
       "<Figure size 432x288 with 2 Axes>"
      ]
     },
     "metadata": {
      "needs_background": "light"
     },
     "output_type": "display_data"
    },
    {
     "data": {
      "image/png": "[encoded data removed]",
      "text/plain": [
       "<Figure size 432x288 with 2 Axes>"
      ]
     },
     "metadata": {
      "needs_background": "light"
     },
     "output_type": "display_data"
    },
    {
     "data": {
      "image/png": "[encoded data removed]",
      "text/plain": [
       "<Figure size 432x288 with 2 Axes>"
      ]
     },
     "metadata": {
      "needs_background": "light"
     },
     "output_type": "display_data"
    },
    {
     "data": {
      "image/png": "[encoded data removed]",
      "text/plain": [
       "<Figure size 432x288 with 2 Axes>"
      ]
     },
     "metadata": {
      "needs_background": "light"
     },
     "output_type": "display_data"
    },
    {
     "data": {
      "image/png": "[encoded data removed]",
      "text/plain": [
       "<Figure size 432x288 with 2 Axes>"
      ]
     },
     "metadata": {
      "needs_background": "light"
     },
     "output_type": "display_data"
    }
   ],
   "source": [
    "for i in range(test.shape[0]):\n",
    "    plt.figure()\n",
    "    plt.subplot(1,2,1)\n",
    "    plt.imshow(test[i].reshape((28,28)), cmap='gray')\n",
    "    plt.axis(\"off\")\n",
    "    plt.subplot(1,2,2)\n",
    "    plt.imshow(decodings[i].reshape((28,28)), cmap='gray')\n",
    "    plt.axis(\"off\")"
   ]
  }
 ],
 "metadata": {
  "kernelspec": {
   "display_name": "Python 3",
   "language": "python",
   "name": "python3"
  },
  "language_info": {
   "codemirror_mode": {
    "name": "ipython",
    "version": 3
   },
   "file_extension": ".py",
   "mimetype": "text/x-python",
   "name": "python",
   "nbconvert_exporter": "python",
   "pygments_lexer": "ipython3",
   "version": "3.4.3"
  }
 },
 "nbformat": 4,
 "nbformat_minor": 2
}
